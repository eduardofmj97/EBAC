{
  "nbformat": 4,
  "nbformat_minor": 0,
  "metadata": {
    "colab": {
      "provenance": []
    },
    "kernelspec": {
      "name": "python3",
      "display_name": "Python 3"
    },
    "language_info": {
      "name": "python"
    }
  },
  "cells": [
    {
      "cell_type": "code",
      "execution_count": null,
      "metadata": {
        "id": "-WW7WR_eaEH-"
      },
      "outputs": [],
      "source": []
    },
    {
      "cell_type": "markdown",
      "source": [
        "  Olá!\n",
        "  <br>Essa é uma calculadora de rendimentos de investimentos baseada em juros composto ao longo o tempo."
      ],
      "metadata": {
        "id": "iuEdemOcaFUD"
      }
    },
    {
      "cell_type": "code",
      "source": [
        "# O código inicia solicitando ao usuário 3 valores para calcular rendimentos mensais: o investimento inicial, a taxa de juros da aplicação e o tempo de aplicação\n",
        "\n",
        "investimento = int(input(\"Defina um valor para o investimento inicial: \"))\n",
        "taxa_de_juros = float(input(\"Defina a taxa de juros percentual mensal do investimento desejado: \").strip(\"%\"))/100\n",
        "tempo = int(input(\"Defina o número de meses de rendimento: \"))\n",
        "\n",
        "# Após receber os valores, é atribuída à variável \"montante_final\" o valor total final do rendimento\n",
        "\n",
        "montante_final = investimento*((1 + taxa_de_juros)**tempo)\n",
        "\n",
        "\"\"\"\n",
        "Para que o usuário possa acompanhar seus rendimentos mensais, é estipulado o valor \"t\",\n",
        "que será a medida de tempo, em meses, ao longo do investimento, com um contador \"while\" até que t seja igual ao prazo final do rendimento\n",
        "\"\"\"\n",
        "\n",
        "t = 0\n",
        "while t <= tempo:\n",
        "  rendimento_mensal = investimento*((1 + taxa_de_juros)**t)\n",
        "  print(f\"O montante no mês {t} será: R$\", round(float(rendimento_mensal), 2))\n",
        "  t += 1\n",
        "\n",
        "print(f\"O valor final do rendimento será de: R${round(float(rendimento_mensal), 2)}\")\n",
        "print(f\"O lucro total será de: R${round((float(montante_final) - investimento), 2)}\")"
      ],
      "metadata": {
        "colab": {
          "base_uri": "https://localhost:8080/"
        },
        "id": "xwBfXTECaHOw",
        "outputId": "8532d991-0063-4913-97dc-dde17e5162d4"
      },
      "execution_count": 28,
      "outputs": [
        {
          "output_type": "stream",
          "name": "stdout",
          "text": [
            "Defina um valor para o investimento inicial: 1000\n",
            "Defina a taxa de juros percentual mensal do investimento desejado: 100\n",
            "Defina o número de meses de rendimento: 12\n",
            "O montante no mês 0 será: R$ 1000.0\n",
            "O montante no mês 1 será: R$ 2000.0\n",
            "O montante no mês 2 será: R$ 4000.0\n",
            "O montante no mês 3 será: R$ 8000.0\n",
            "O montante no mês 4 será: R$ 16000.0\n",
            "O montante no mês 5 será: R$ 32000.0\n",
            "O montante no mês 6 será: R$ 64000.0\n",
            "O montante no mês 7 será: R$ 128000.0\n",
            "O montante no mês 8 será: R$ 256000.0\n",
            "O montante no mês 9 será: R$ 512000.0\n",
            "O montante no mês 10 será: R$ 1024000.0\n",
            "O montante no mês 11 será: R$ 2048000.0\n",
            "O montante no mês 12 será: R$ 4096000.0\n",
            "O valor final do rendimento será de: R$4096000.0\n",
            "O lucro total será de: R$4095000.0\n"
          ]
        }
      ]
    },
    {
      "cell_type": "markdown",
      "source": [],
      "metadata": {
        "id": "kt34po1caP0a"
      }
    }
  ]
}